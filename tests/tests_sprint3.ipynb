{
  "nbformat": 4,
  "nbformat_minor": 0,
  "metadata": {
    "colab": {
      "provenance": []
    },
    "kernelspec": {
      "name": "python3",
      "display_name": "Python 3"
    },
    "language_info": {
      "name": "python"
    }
  },
  "cells": [
    {
      "cell_type": "code",
      "execution_count": null,
      "metadata": {
        "id": "niflmsYNAi0w"
      },
      "outputs": [],
      "source": [
        "#code to set up dataset\n",
        "import pandas as pd\n",
        "import seaborn as sns\n",
        "import matplotlib.pyplot as plt\n",
        "df= pd.read_csv(\"birds_arent_real_tweets.csv\")"
      ]
    },
    {
      "cell_type": "code",
      "source": [
        "#code for preprocessing followers data\n",
        "follower_q1= df[\"user_followers\"].quantile(0.25)\n",
        "follower_q3= df[\"user_followers\"].quantile(0.75)\n",
        "follower_iqr= follower_q3-follower_q1\n",
        "follower_lowerbound= follower_q1-1.5*follower_iqr\n",
        "follower_upperbound= follower_q3+1.5*follower_iqr\n",
        "df= df[(df[\"user_followers\"] >= follower_lowerbound) & (df[\"user_followers\"] <= follower_upperbound)]\n",
        "sns.boxplot(x=df[\"user_followers\"])\n",
        "plt.title(\"followers Boxplot (Detecting Outliers)\")\n",
        "plt.show()"
      ],
      "metadata": {
        "id": "-wDwDA-BAwP5"
      },
      "execution_count": null,
      "outputs": []
    },
    {
      "cell_type": "code",
      "source": [
        "#code for Preprocessing favorties data\n",
        "favorite_q1= df[\"favorites\"].quantile(0.25)\n",
        "favorite_q3= df[\"favorites\"].quantile(0.75)\n",
        "favorite_iqr= favorite_q3-favorite_q1\n",
        "favorite_lowerbound= favorite_q1-1.5*favorite_iqr\n",
        "favorite_upperbound= favorite_q3+1.5*favorite_iqr\n",
        "df= df[(df[\"favorites\"] >= favorite_lowerbound) & (df[\"favorites\"] <= favorite_upperbound)]\n",
        "sns.boxplot(x=df[\"favorites\"])\n",
        "plt.title(\"favorites Boxplot (Detecting Outliers)\")\n",
        "plt.show()"
      ],
      "metadata": {
        "id": "mACjp9ObAz_h"
      },
      "execution_count": null,
      "outputs": []
    },
    {
      "cell_type": "code",
      "source": [
        "#code for preprocessing friends data\n",
        "friend_q1= df[\"user_friends\"].quantile(0.25)\n",
        "friend_q3= df[\"user_friends\"].quantile(0.75)\n",
        "friend_iqr= friend_q3-friend_q1\n",
        "friend_lowerbound= friend_q1-1.5*friend_iqr\n",
        "friend_upperbound= friend_q3+1.5*friend_iqr\n",
        "df= df[(df[\"user_friends\"] >= friend_lowerbound) & (df[\"user_friends\"] <= friend_upperbound)]\n",
        "sns.boxplot(x=df[\"user_friends\"])\n",
        "plt.title(\"friends Boxplot (Detecting Outliers)\")\n",
        "plt.show()"
      ],
      "metadata": {
        "id": "vSDBSL_bA5Bm"
      },
      "execution_count": null,
      "outputs": []
    },
    {
      "cell_type": "code",
      "source": [
        "#Code for setting up Mann Whitney U test and interpretation\n",
        "from scipy.stats import mannwhitneyu\n",
        "verified_users = df[df['user_verified'] == 1]['user_followers']\n",
        "non_verified_users = df[df['user_verified'] == 0]['user_followers']\n",
        "stat, p_value = mannwhitneyu(verified_users, non_verified_users, alternative='two-sided')\n",
        "print(f\"Test statistic: {stat}\")\n",
        "print(f\"P-value: {p_value}\")\n",
        "\n",
        "if p_value < 0.05:\n",
        "    print(\"There is a significant difference between verified and non-verified users' followers.\")\n",
        "else:\n",
        "    print(\"There is no significant difference between verified and non-verified users' followers.\")"
      ],
      "metadata": {
        "id": "xd3WRlHmBckM"
      },
      "execution_count": null,
      "outputs": []
    },
    {
      "cell_type": "code",
      "source": [
        "#code for setting up Point Biserial Correlation test and interpretation\n",
        "from scipy.stats import pointbiserialr\n",
        "correlation, p_value = pointbiserialr(df['user_verified'], df['user_followers'])\n",
        "print(f\"Point-biserial correlation: {correlation}\")\n",
        "print(f\"P-value: {p_value}\")\n",
        "\n",
        "if p_value < 0.05:\n",
        "    if correlation > 0:\n",
        "        print(\"There is a significant positive correlation: Verified users tend to have more followers.\")\n",
        "    elif correlation < 0:\n",
        "        print(\"There is a significant negative correlation: Verified users tend to have fewer followers.\")\n",
        "    else:\n",
        "        print(\"There is no significant correlation.\")\n",
        "else:\n",
        "    print(\"There is no significant correlation between being verified and the number of followers.\")"
      ],
      "metadata": {
        "id": "DZbJ17puBkh-"
      },
      "execution_count": null,
      "outputs": []
    }
  ]
}