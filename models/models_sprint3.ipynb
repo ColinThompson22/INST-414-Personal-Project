{
  "nbformat": 4,
  "nbformat_minor": 0,
  "metadata": {
    "colab": {
      "provenance": []
    },
    "kernelspec": {
      "name": "python3",
      "display_name": "Python 3"
    },
    "language_info": {
      "name": "python"
    }
  },
  "cells": [
    {
      "cell_type": "code",
      "execution_count": null,
      "metadata": {
        "id": "JqEMW3eOCcxk"
      },
      "outputs": [],
      "source": [
        "# code for setup\n",
        "import pandas as pd\n",
        "import seaborn as sns\n",
        "import matplotlib.pyplot as plt\n",
        "df= pd.read_csv(\"birds_arent_real_tweets.csv\")"
      ]
    },
    {
      "cell_type": "code",
      "source": [
        "#Code for preprocessing favorites\n",
        "favorite_q1= df[\"favorites\"].quantile(0.25)\n",
        "favorite_q3= df[\"favorites\"].quantile(0.75)\n",
        "favorite_iqr= favorite_q3-favorite_q1\n",
        "favorite_lowerbound= favorite_q1-1.5*favorite_iqr\n",
        "favorite_upperbound= favorite_q3+1.5*favorite_iqr\n",
        "df= df[(df[\"favorites\"] >= favorite_lowerbound) & (df[\"favorites\"] <= favorite_upperbound)]\n",
        "sns.boxplot(x=df[\"favorites\"])\n",
        "plt.title(\"favorites Boxplot (Detecting Outliers)\")\n",
        "plt.show()"
      ],
      "metadata": {
        "id": "dVePHGM_CyKr"
      },
      "execution_count": null,
      "outputs": []
    },
    {
      "cell_type": "code",
      "source": [
        "#Code for preprocessing friends\n",
        "friend_q1= df[\"user_friends\"].quantile(0.25)\n",
        "friend_q3= df[\"user_friends\"].quantile(0.75)\n",
        "friend_iqr= friend_q3-friend_q1\n",
        "friend_lowerbound= friend_q1-1.5*friend_iqr\n",
        "friend_upperbound= friend_q3+1.5*friend_iqr\n",
        "df= df[(df[\"user_friends\"] >= friend_lowerbound) & (df[\"user_friends\"] <= friend_upperbound)]\n",
        "sns.boxplot(x=df[\"user_friends\"])\n",
        "plt.title(\"friends Boxplot (Detecting Outliers)\")\n",
        "plt.show()"
      ],
      "metadata": {
        "id": "gNAJVEIpC1oV"
      },
      "execution_count": null,
      "outputs": []
    },
    {
      "cell_type": "code",
      "source": [
        "#Code for preprocessing followers\n",
        "follower_q1= df[\"user_followers\"].quantile(0.25)\n",
        "follower_q3= df[\"user_followers\"].quantile(0.75)\n",
        "follower_iqr= follower_q3-follower_q1\n",
        "follower_lowerbound= follower_q1-1.5*follower_iqr\n",
        "follower_upperbound= follower_q3+1.5*follower_iqr\n",
        "df= df[(df[\"user_followers\"] >= follower_lowerbound) & (df[\"user_followers\"] <= follower_upperbound)]\n",
        "sns.boxplot(x=df[\"user_followers\"])\n",
        "plt.title(\"followers Boxplot (Detecting Outliers)\")\n",
        "plt.show()"
      ],
      "metadata": {
        "id": "9xMf3N0BC7D_"
      },
      "execution_count": null,
      "outputs": []
    },
    {
      "cell_type": "markdown",
      "source": [
        "The reason a Poisson model was created out of all these models is due to the fact that this type of model is good for having more advanced analysis of points of data that have one as counts, which is the favorites column, and one with binary oeperators, which is verified_users. So it seemed like the best model to try and implemnet what I was looking for. The main parameter settings that were enabled were the link function and estimation method. The link function allows for default long ,inks to be put into place. The estimation method was implmented as a parameter as well since it allowed for estimiation of the accuracy of the model, which is useful.When implmenting the model, the verified column was transformed into numeric binary operators so the model would work correctly. After that the model was fit and a summary of the model regression was printed, which showed no clear signficene between the two factors."
      ],
      "metadata": {
        "id": "x1PIb2JeDjn3"
      }
    },
    {
      "cell_type": "code",
      "source": [
        "#Code for setting up the poisson regression model for favorites and verified users\n",
        "import statsmodels.api as sm\n",
        "from statsmodels.formula.api import poisson\n",
        "df['user_verified'] = df['user_verified'].astype(int)\n",
        "poisson_model = poisson('favorites ~ user_verified', data=df).fit()\n",
        "print(poisson_model.summary())"
      ],
      "metadata": {
        "id": "2qP_PYujDRjH"
      },
      "execution_count": null,
      "outputs": []
    }
  ]
}